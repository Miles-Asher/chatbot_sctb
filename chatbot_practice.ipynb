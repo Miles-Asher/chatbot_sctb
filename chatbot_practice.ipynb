{
  "cells": [
    {
      "cell_type": "code",
      "execution_count": 5,
      "metadata": {
        "collapsed": true,
        "id": "W3WgZZ6HT98s",
        "colab": {
          "base_uri": "https://localhost:8080/"
        },
        "outputId": "aa7206a1-a06a-4a4f-be09-fea297396b11"
      },
      "outputs": [
        {
          "output_type": "stream",
          "name": "stdout",
          "text": [
            "Cloning into 'portfolio'...\n",
            "remote: Enumerating objects: 9364, done.\u001b[K\n",
            "remote: Counting objects: 100% (2198/2198), done.\u001b[K\n",
            "remote: Compressing objects: 100% (586/586), done.\u001b[K\n",
            "remote: Total 9364 (delta 1510), reused 2156 (delta 1487), pack-reused 7166\u001b[K\n",
            "Receiving objects: 100% (9364/9364), 486.47 MiB | 27.66 MiB/s, done.\n",
            "Resolving deltas: 100% (4996/4996), done.\n"
          ]
        }
      ],
      "source": [
        "!git clone https://github.com/zackproser/portfolio.git"
      ]
    },
    {
      "cell_type": "code",
      "execution_count": 6,
      "metadata": {
        "colab": {
          "base_uri": "https://localhost:8080/"
        },
        "collapsed": true,
        "id": "DEcEGpxaV74v",
        "outputId": "2e142380-3c16-4a3d-e571-8bd2a3d4982d"
      },
      "outputs": [
        {
          "output_type": "stream",
          "name": "stdout",
          "text": [
            "Collecting langchain_community\n",
            "  Downloading langchain_community-0.2.7-py3-none-any.whl (2.2 MB)\n",
            "\u001b[2K     \u001b[90m━━━━━━━━━━━━━━━━━━━━━━━━━━━━━━━━━━━━━━━━\u001b[0m \u001b[32m2.2/2.2 MB\u001b[0m \u001b[31m10.0 MB/s\u001b[0m eta \u001b[36m0:00:00\u001b[0m\n",
            "\u001b[?25hCollecting langchain_pinecone\n",
            "  Downloading langchain_pinecone-0.1.2-py3-none-any.whl (8.5 kB)\n",
            "Collecting langchain_openai\n",
            "  Downloading langchain_openai-0.1.17-py3-none-any.whl (46 kB)\n",
            "\u001b[2K     \u001b[90m━━━━━━━━━━━━━━━━━━━━━━━━━━━━━━━━━━━━━━━━\u001b[0m \u001b[32m46.7/46.7 kB\u001b[0m \u001b[31m5.6 MB/s\u001b[0m eta \u001b[36m0:00:00\u001b[0m\n",
            "\u001b[?25hCollecting unstructured\n",
            "  Downloading unstructured-0.14.10-py3-none-any.whl (2.1 MB)\n",
            "\u001b[2K     \u001b[90m━━━━━━━━━━━━━━━━━━━━━━━━━━━━━━━━━━━━━━━━\u001b[0m \u001b[32m2.1/2.1 MB\u001b[0m \u001b[31m21.9 MB/s\u001b[0m eta \u001b[36m0:00:00\u001b[0m\n",
            "\u001b[?25hCollecting langchain-text-splitters\n",
            "  Downloading langchain_text_splitters-0.2.2-py3-none-any.whl (25 kB)\n",
            "Requirement already satisfied: PyYAML>=5.3 in /usr/local/lib/python3.10/dist-packages (from langchain_community) (6.0.1)\n",
            "Requirement already satisfied: SQLAlchemy<3,>=1.4 in /usr/local/lib/python3.10/dist-packages (from langchain_community) (2.0.31)\n",
            "Requirement already satisfied: aiohttp<4.0.0,>=3.8.3 in /usr/local/lib/python3.10/dist-packages (from langchain_community) (3.9.5)\n",
            "Collecting dataclasses-json<0.7,>=0.5.7 (from langchain_community)\n",
            "  Downloading dataclasses_json-0.6.7-py3-none-any.whl (28 kB)\n",
            "Collecting langchain<0.3.0,>=0.2.7 (from langchain_community)\n",
            "  Downloading langchain-0.2.9-py3-none-any.whl (987 kB)\n",
            "\u001b[2K     \u001b[90m━━━━━━━━━━━━━━━━━━━━━━━━━━━━━━━━━━━━━━━━\u001b[0m \u001b[32m987.7/987.7 kB\u001b[0m \u001b[31m25.4 MB/s\u001b[0m eta \u001b[36m0:00:00\u001b[0m\n",
            "\u001b[?25hCollecting langchain-core<0.3.0,>=0.2.12 (from langchain_community)\n",
            "  Downloading langchain_core-0.2.21-py3-none-any.whl (372 kB)\n",
            "\u001b[2K     \u001b[90m━━━━━━━━━━━━━━━━━━━━━━━━━━━━━━━━━━━━━━━━\u001b[0m \u001b[32m372.0/372.0 kB\u001b[0m \u001b[31m32.9 MB/s\u001b[0m eta \u001b[36m0:00:00\u001b[0m\n",
            "\u001b[?25hCollecting langsmith<0.2.0,>=0.1.0 (from langchain_community)\n",
            "  Downloading langsmith-0.1.92-py3-none-any.whl (134 kB)\n",
            "\u001b[2K     \u001b[90m━━━━━━━━━━━━━━━━━━━━━━━━━━━━━━━━━━━━━━━━\u001b[0m \u001b[32m135.0/135.0 kB\u001b[0m \u001b[31m12.4 MB/s\u001b[0m eta \u001b[36m0:00:00\u001b[0m\n",
            "\u001b[?25hRequirement already satisfied: numpy<2,>=1 in /usr/local/lib/python3.10/dist-packages (from langchain_community) (1.25.2)\n",
            "Requirement already satisfied: requests<3,>=2 in /usr/local/lib/python3.10/dist-packages (from langchain_community) (2.31.0)\n",
            "Requirement already satisfied: tenacity!=8.4.0,<9.0.0,>=8.1.0 in /usr/local/lib/python3.10/dist-packages (from langchain_community) (8.5.0)\n",
            "Collecting pinecone-client<5,>=3.2.2 (from langchain_pinecone)\n",
            "  Downloading pinecone_client-4.1.2-py3-none-any.whl (216 kB)\n",
            "\u001b[2K     \u001b[90m━━━━━━━━━━━━━━━━━━━━━━━━━━━━━━━━━━━━━━━━\u001b[0m \u001b[32m216.4/216.4 kB\u001b[0m \u001b[31m23.3 MB/s\u001b[0m eta \u001b[36m0:00:00\u001b[0m\n",
            "\u001b[?25hCollecting openai<2.0.0,>=1.32.0 (from langchain_openai)\n",
            "  Downloading openai-1.35.15-py3-none-any.whl (328 kB)\n",
            "\u001b[2K     \u001b[90m━━━━━━━━━━━━━━━━━━━━━━━━━━━━━━━━━━━━━━━━\u001b[0m \u001b[32m328.6/328.6 kB\u001b[0m \u001b[31m30.9 MB/s\u001b[0m eta \u001b[36m0:00:00\u001b[0m\n",
            "\u001b[?25hCollecting tiktoken<1,>=0.7 (from langchain_openai)\n",
            "  Downloading tiktoken-0.7.0-cp310-cp310-manylinux_2_17_x86_64.manylinux2014_x86_64.whl (1.1 MB)\n",
            "\u001b[2K     \u001b[90m━━━━━━━━━━━━━━━━━━━━━━━━━━━━━━━━━━━━━━━━\u001b[0m \u001b[32m1.1/1.1 MB\u001b[0m \u001b[31m36.7 MB/s\u001b[0m eta \u001b[36m0:00:00\u001b[0m\n",
            "\u001b[?25hRequirement already satisfied: chardet in /usr/local/lib/python3.10/dist-packages (from unstructured) (5.2.0)\n",
            "Collecting filetype (from unstructured)\n",
            "  Downloading filetype-1.2.0-py2.py3-none-any.whl (19 kB)\n",
            "Collecting python-magic (from unstructured)\n",
            "  Downloading python_magic-0.4.27-py2.py3-none-any.whl (13 kB)\n",
            "Requirement already satisfied: lxml in /usr/local/lib/python3.10/dist-packages (from unstructured) (4.9.4)\n",
            "Requirement already satisfied: nltk in /usr/local/lib/python3.10/dist-packages (from unstructured) (3.8.1)\n",
            "Requirement already satisfied: tabulate in /usr/local/lib/python3.10/dist-packages (from unstructured) (0.9.0)\n",
            "Requirement already satisfied: beautifulsoup4 in /usr/local/lib/python3.10/dist-packages (from unstructured) (4.12.3)\n",
            "Collecting emoji (from unstructured)\n",
            "  Downloading emoji-2.12.1-py3-none-any.whl (431 kB)\n",
            "\u001b[2K     \u001b[90m━━━━━━━━━━━━━━━━━━━━━━━━━━━━━━━━━━━━━━━━\u001b[0m \u001b[32m431.4/431.4 kB\u001b[0m \u001b[31m33.8 MB/s\u001b[0m eta \u001b[36m0:00:00\u001b[0m\n",
            "\u001b[?25hCollecting python-iso639 (from unstructured)\n",
            "  Downloading python_iso639-2024.4.27-py3-none-any.whl (274 kB)\n",
            "\u001b[2K     \u001b[90m━━━━━━━━━━━━━━━━━━━━━━━━━━━━━━━━━━━━━━━━\u001b[0m \u001b[32m274.7/274.7 kB\u001b[0m \u001b[31m28.2 MB/s\u001b[0m eta \u001b[36m0:00:00\u001b[0m\n",
            "\u001b[?25hCollecting langdetect (from unstructured)\n",
            "  Downloading langdetect-1.0.9.tar.gz (981 kB)\n",
            "\u001b[2K     \u001b[90m━━━━━━━━━━━━━━━━━━━━━━━━━━━━━━━━━━━━━━━━\u001b[0m \u001b[32m981.5/981.5 kB\u001b[0m \u001b[31m33.5 MB/s\u001b[0m eta \u001b[36m0:00:00\u001b[0m\n",
            "\u001b[?25h  Preparing metadata (setup.py) ... \u001b[?25l\u001b[?25hdone\n",
            "Collecting rapidfuzz (from unstructured)\n",
            "  Downloading rapidfuzz-3.9.4-cp310-cp310-manylinux_2_17_x86_64.manylinux2014_x86_64.whl (3.4 MB)\n",
            "\u001b[2K     \u001b[90m━━━━━━━━━━━━━━━━━━━━━━━━━━━━━━━━━━━━━━━━\u001b[0m \u001b[32m3.4/3.4 MB\u001b[0m \u001b[31m45.6 MB/s\u001b[0m eta \u001b[36m0:00:00\u001b[0m\n",
            "\u001b[?25hCollecting backoff (from unstructured)\n",
            "  Downloading backoff-2.2.1-py3-none-any.whl (15 kB)\n",
            "Requirement already satisfied: typing-extensions in /usr/local/lib/python3.10/dist-packages (from unstructured) (4.12.2)\n",
            "Collecting unstructured-client (from unstructured)\n",
            "  Downloading unstructured_client-0.24.1-py3-none-any.whl (41 kB)\n",
            "\u001b[2K     \u001b[90m━━━━━━━━━━━━━━━━━━━━━━━━━━━━━━━━━━━━━━━━\u001b[0m \u001b[32m41.9/41.9 kB\u001b[0m \u001b[31m5.7 MB/s\u001b[0m eta \u001b[36m0:00:00\u001b[0m\n",
            "\u001b[?25hRequirement already satisfied: wrapt in /usr/local/lib/python3.10/dist-packages (from unstructured) (1.14.1)\n",
            "Requirement already satisfied: tqdm in /usr/local/lib/python3.10/dist-packages (from unstructured) (4.66.4)\n",
            "Requirement already satisfied: psutil in /usr/local/lib/python3.10/dist-packages (from unstructured) (5.9.5)\n",
            "Requirement already satisfied: aiosignal>=1.1.2 in /usr/local/lib/python3.10/dist-packages (from aiohttp<4.0.0,>=3.8.3->langchain_community) (1.3.1)\n",
            "Requirement already satisfied: attrs>=17.3.0 in /usr/local/lib/python3.10/dist-packages (from aiohttp<4.0.0,>=3.8.3->langchain_community) (23.2.0)\n",
            "Requirement already satisfied: frozenlist>=1.1.1 in /usr/local/lib/python3.10/dist-packages (from aiohttp<4.0.0,>=3.8.3->langchain_community) (1.4.1)\n",
            "Requirement already satisfied: multidict<7.0,>=4.5 in /usr/local/lib/python3.10/dist-packages (from aiohttp<4.0.0,>=3.8.3->langchain_community) (6.0.5)\n",
            "Requirement already satisfied: yarl<2.0,>=1.0 in /usr/local/lib/python3.10/dist-packages (from aiohttp<4.0.0,>=3.8.3->langchain_community) (1.9.4)\n",
            "Requirement already satisfied: async-timeout<5.0,>=4.0 in /usr/local/lib/python3.10/dist-packages (from aiohttp<4.0.0,>=3.8.3->langchain_community) (4.0.3)\n",
            "Collecting marshmallow<4.0.0,>=3.18.0 (from dataclasses-json<0.7,>=0.5.7->langchain_community)\n",
            "  Downloading marshmallow-3.21.3-py3-none-any.whl (49 kB)\n",
            "\u001b[2K     \u001b[90m━━━━━━━━━━━━━━━━━━━━━━━━━━━━━━━━━━━━━━━━\u001b[0m \u001b[32m49.2/49.2 kB\u001b[0m \u001b[31m2.1 MB/s\u001b[0m eta \u001b[36m0:00:00\u001b[0m\n",
            "\u001b[?25hCollecting typing-inspect<1,>=0.4.0 (from dataclasses-json<0.7,>=0.5.7->langchain_community)\n",
            "  Downloading typing_inspect-0.9.0-py3-none-any.whl (8.8 kB)\n",
            "Requirement already satisfied: pydantic<3,>=1 in /usr/local/lib/python3.10/dist-packages (from langchain<0.3.0,>=0.2.7->langchain_community) (2.8.2)\n",
            "Collecting jsonpatch<2.0,>=1.33 (from langchain-core<0.3.0,>=0.2.12->langchain_community)\n",
            "  Downloading jsonpatch-1.33-py2.py3-none-any.whl (12 kB)\n",
            "Requirement already satisfied: packaging<25,>=23.2 in /usr/local/lib/python3.10/dist-packages (from langchain-core<0.3.0,>=0.2.12->langchain_community) (24.1)\n",
            "Collecting orjson<4.0.0,>=3.9.14 (from langsmith<0.2.0,>=0.1.0->langchain_community)\n",
            "  Downloading orjson-3.10.6-cp310-cp310-manylinux_2_17_x86_64.manylinux2014_x86_64.whl (141 kB)\n",
            "\u001b[2K     \u001b[90m━━━━━━━━━━━━━━━━━━━━━━━━━━━━━━━━━━━━━━━━\u001b[0m \u001b[32m141.1/141.1 kB\u001b[0m \u001b[31m17.3 MB/s\u001b[0m eta \u001b[36m0:00:00\u001b[0m\n",
            "\u001b[?25hRequirement already satisfied: anyio<5,>=3.5.0 in /usr/local/lib/python3.10/dist-packages (from openai<2.0.0,>=1.32.0->langchain_openai) (3.7.1)\n",
            "Requirement already satisfied: distro<2,>=1.7.0 in /usr/lib/python3/dist-packages (from openai<2.0.0,>=1.32.0->langchain_openai) (1.7.0)\n",
            "Collecting httpx<1,>=0.23.0 (from openai<2.0.0,>=1.32.0->langchain_openai)\n",
            "  Downloading httpx-0.27.0-py3-none-any.whl (75 kB)\n",
            "\u001b[2K     \u001b[90m━━━━━━━━━━━━━━━━━━━━━━━━━━━━━━━━━━━━━━━━\u001b[0m \u001b[32m75.6/75.6 kB\u001b[0m \u001b[31m10.7 MB/s\u001b[0m eta \u001b[36m0:00:00\u001b[0m\n",
            "\u001b[?25hRequirement already satisfied: sniffio in /usr/local/lib/python3.10/dist-packages (from openai<2.0.0,>=1.32.0->langchain_openai) (1.3.1)\n",
            "Requirement already satisfied: certifi>=2019.11.17 in /usr/local/lib/python3.10/dist-packages (from pinecone-client<5,>=3.2.2->langchain_pinecone) (2024.7.4)\n",
            "Collecting pinecone-plugin-interface<0.0.8,>=0.0.7 (from pinecone-client<5,>=3.2.2->langchain_pinecone)\n",
            "  Downloading pinecone_plugin_interface-0.0.7-py3-none-any.whl (6.2 kB)\n",
            "Requirement already satisfied: urllib3>=1.26.0 in /usr/local/lib/python3.10/dist-packages (from pinecone-client<5,>=3.2.2->langchain_pinecone) (2.0.7)\n",
            "Requirement already satisfied: charset-normalizer<4,>=2 in /usr/local/lib/python3.10/dist-packages (from requests<3,>=2->langchain_community) (3.3.2)\n",
            "Requirement already satisfied: idna<4,>=2.5 in /usr/local/lib/python3.10/dist-packages (from requests<3,>=2->langchain_community) (3.7)\n",
            "Requirement already satisfied: greenlet!=0.4.17 in /usr/local/lib/python3.10/dist-packages (from SQLAlchemy<3,>=1.4->langchain_community) (3.0.3)\n",
            "Requirement already satisfied: regex>=2022.1.18 in /usr/local/lib/python3.10/dist-packages (from tiktoken<1,>=0.7->langchain_openai) (2024.5.15)\n",
            "Requirement already satisfied: soupsieve>1.2 in /usr/local/lib/python3.10/dist-packages (from beautifulsoup4->unstructured) (2.5)\n",
            "Requirement already satisfied: six in /usr/local/lib/python3.10/dist-packages (from langdetect->unstructured) (1.16.0)\n",
            "Requirement already satisfied: click in /usr/local/lib/python3.10/dist-packages (from nltk->unstructured) (8.1.7)\n",
            "Requirement already satisfied: joblib in /usr/local/lib/python3.10/dist-packages (from nltk->unstructured) (1.4.2)\n",
            "Collecting deepdiff>=6.0 (from unstructured-client->unstructured)\n",
            "  Downloading deepdiff-7.0.1-py3-none-any.whl (80 kB)\n",
            "\u001b[2K     \u001b[90m━━━━━━━━━━━━━━━━━━━━━━━━━━━━━━━━━━━━━━━━\u001b[0m \u001b[32m80.8/80.8 kB\u001b[0m \u001b[31m10.7 MB/s\u001b[0m eta \u001b[36m0:00:00\u001b[0m\n",
            "\u001b[?25hCollecting jsonpath-python>=1.0.6 (from unstructured-client->unstructured)\n",
            "  Downloading jsonpath_python-1.0.6-py3-none-any.whl (7.6 kB)\n",
            "Collecting mypy-extensions>=1.0.0 (from unstructured-client->unstructured)\n",
            "  Downloading mypy_extensions-1.0.0-py3-none-any.whl (4.7 kB)\n",
            "Requirement already satisfied: nest-asyncio>=1.6.0 in /usr/local/lib/python3.10/dist-packages (from unstructured-client->unstructured) (1.6.0)\n",
            "Collecting pypdf>=4.0 (from unstructured-client->unstructured)\n",
            "  Downloading pypdf-4.3.0-py3-none-any.whl (295 kB)\n",
            "\u001b[2K     \u001b[90m━━━━━━━━━━━━━━━━━━━━━━━━━━━━━━━━━━━━━━━━\u001b[0m \u001b[32m295.7/295.7 kB\u001b[0m \u001b[31m25.1 MB/s\u001b[0m eta \u001b[36m0:00:00\u001b[0m\n",
            "\u001b[?25hRequirement already satisfied: python-dateutil>=2.8.2 in /usr/local/lib/python3.10/dist-packages (from unstructured-client->unstructured) (2.8.2)\n",
            "Collecting requests-toolbelt>=1.0.0 (from unstructured-client->unstructured)\n",
            "  Downloading requests_toolbelt-1.0.0-py2.py3-none-any.whl (54 kB)\n",
            "\u001b[2K     \u001b[90m━━━━━━━━━━━━━━━━━━━━━━━━━━━━━━━━━━━━━━━━\u001b[0m \u001b[32m54.5/54.5 kB\u001b[0m \u001b[31m5.7 MB/s\u001b[0m eta \u001b[36m0:00:00\u001b[0m\n",
            "\u001b[?25hRequirement already satisfied: exceptiongroup in /usr/local/lib/python3.10/dist-packages (from anyio<5,>=3.5.0->openai<2.0.0,>=1.32.0->langchain_openai) (1.2.2)\n",
            "Collecting ordered-set<4.2.0,>=4.1.0 (from deepdiff>=6.0->unstructured-client->unstructured)\n",
            "  Downloading ordered_set-4.1.0-py3-none-any.whl (7.6 kB)\n",
            "Collecting httpcore==1.* (from httpx<1,>=0.23.0->openai<2.0.0,>=1.32.0->langchain_openai)\n",
            "  Downloading httpcore-1.0.5-py3-none-any.whl (77 kB)\n",
            "\u001b[2K     \u001b[90m━━━━━━━━━━━━━━━━━━━━━━━━━━━━━━━━━━━━━━━━\u001b[0m \u001b[32m77.9/77.9 kB\u001b[0m \u001b[31m10.2 MB/s\u001b[0m eta \u001b[36m0:00:00\u001b[0m\n",
            "\u001b[?25hCollecting h11<0.15,>=0.13 (from httpcore==1.*->httpx<1,>=0.23.0->openai<2.0.0,>=1.32.0->langchain_openai)\n",
            "  Downloading h11-0.14.0-py3-none-any.whl (58 kB)\n",
            "\u001b[2K     \u001b[90m━━━━━━━━━━━━━━━━━━━━━━━━━━━━━━━━━━━━━━━━\u001b[0m \u001b[32m58.3/58.3 kB\u001b[0m \u001b[31m6.0 MB/s\u001b[0m eta \u001b[36m0:00:00\u001b[0m\n",
            "\u001b[?25hCollecting jsonpointer>=1.9 (from jsonpatch<2.0,>=1.33->langchain-core<0.3.0,>=0.2.12->langchain_community)\n",
            "  Downloading jsonpointer-3.0.0-py2.py3-none-any.whl (7.6 kB)\n",
            "Requirement already satisfied: annotated-types>=0.4.0 in /usr/local/lib/python3.10/dist-packages (from pydantic<3,>=1->langchain<0.3.0,>=0.2.7->langchain_community) (0.7.0)\n",
            "Requirement already satisfied: pydantic-core==2.20.1 in /usr/local/lib/python3.10/dist-packages (from pydantic<3,>=1->langchain<0.3.0,>=0.2.7->langchain_community) (2.20.1)\n",
            "Building wheels for collected packages: langdetect\n",
            "  Building wheel for langdetect (setup.py) ... \u001b[?25l\u001b[?25hdone\n",
            "  Created wheel for langdetect: filename=langdetect-1.0.9-py3-none-any.whl size=993227 sha256=6db336ae10767c1dafbf7731455b89b21c69e5af8977289d41a1ee9b193f4944\n",
            "  Stored in directory: /root/.cache/pip/wheels/95/03/7d/59ea870c70ce4e5a370638b5462a7711ab78fba2f655d05106\n",
            "Successfully built langdetect\n",
            "Installing collected packages: filetype, rapidfuzz, python-magic, python-iso639, pypdf, pinecone-plugin-interface, orjson, ordered-set, mypy-extensions, marshmallow, langdetect, jsonpointer, jsonpath-python, h11, emoji, backoff, typing-inspect, tiktoken, requests-toolbelt, pinecone-client, jsonpatch, httpcore, deepdiff, langsmith, httpx, dataclasses-json, unstructured-client, openai, langchain-core, unstructured, langchain-text-splitters, langchain_pinecone, langchain_openai, langchain, langchain_community\n",
            "Successfully installed backoff-2.2.1 dataclasses-json-0.6.7 deepdiff-7.0.1 emoji-2.12.1 filetype-1.2.0 h11-0.14.0 httpcore-1.0.5 httpx-0.27.0 jsonpatch-1.33 jsonpath-python-1.0.6 jsonpointer-3.0.0 langchain-0.2.9 langchain-core-0.2.21 langchain-text-splitters-0.2.2 langchain_community-0.2.7 langchain_openai-0.1.17 langchain_pinecone-0.1.2 langdetect-1.0.9 langsmith-0.1.92 marshmallow-3.21.3 mypy-extensions-1.0.0 openai-1.35.15 ordered-set-4.1.0 orjson-3.10.6 pinecone-client-4.1.2 pinecone-plugin-interface-0.0.7 pypdf-4.3.0 python-iso639-2024.4.27 python-magic-0.4.27 rapidfuzz-3.9.4 requests-toolbelt-1.0.0 tiktoken-0.7.0 typing-inspect-0.9.0 unstructured-0.14.10 unstructured-client-0.24.1\n"
          ]
        }
      ],
      "source": [
        "!pip install \\\n",
        "  langchain_community \\\n",
        "  langchain_pinecone \\\n",
        "  langchain_openai \\\n",
        "  unstructured \\\n",
        "  langchain-text-splitters"
      ]
    },
    {
      "cell_type": "code",
      "execution_count": 7,
      "metadata": {
        "id": "HY9AxsVLWrM1"
      },
      "outputs": [],
      "source": [
        "from langchain_pinecone import PineconeVectorStore\n",
        "from langchain_openai import OpenAIEmbeddings\n",
        "from langchain_community.document_loaders import DirectoryLoader\n",
        "from langchain_text_splitters import RecursiveCharacterTextSplitter\n",
        "import os\n",
        "import glob"
      ]
    },
    {
      "cell_type": "code",
      "execution_count": 8,
      "metadata": {
        "id": "dVzNbaeCXP4t"
      },
      "outputs": [],
      "source": [
        "loader = DirectoryLoader('portfolio', glob=\"**/*.mdx\")"
      ]
    },
    {
      "cell_type": "code",
      "execution_count": 9,
      "metadata": {
        "id": "gIl1BdcaX3Se"
      },
      "outputs": [],
      "source": [
        "docs = loader.load()"
      ]
    },
    {
      "cell_type": "code",
      "execution_count": 10,
      "metadata": {
        "colab": {
          "base_uri": "https://localhost:8080/"
        },
        "collapsed": true,
        "id": "j9_D_jFld0sD",
        "outputId": "fe152bcc-4a05-48ca-d2ad-d9ee981494ce"
      },
      "outputs": [
        {
          "output_type": "execute_result",
          "data": {
            "text/plain": [
              "Document(metadata={'source': 'portfolio/src/app/blog/terminal-velocity-overview/page.mdx'}, page_content='import { ArticleLayout } from \\'@/components/ArticleLayout\\' import Image from \\'next/image\\' import tmuxFlow from \\'@/images/tmux-flow.gif\\' import myCustomDevSetup from \\'@/images/my-custom-development-setup.webp\\' import viper from \\'@/images/viper.webp\\' import fzf from \\'@/images/fzf.gif\\' import neotreeDemo from \\'@/images/neotree.gif\\' import ripgrepDemo from \\'@/images/ripgrep.gif\\' import symbolOutlineDemo from \\'@/images/symboloutline.gif\\'\\n\\nimport { createMetadata } from \\'@/utils/createMetadata\\'\\n\\nexport const metadata = createMetadata({ author: \"Zachary Proser\", date: \"2022-04-27\", title: \"Terminal velocity - how to get faster as a developer \", description: \"I obssess a decent amount over my own developer productivity and my customized tmux, neovim and awesome window manager linux setup, and now I pass my best learnings on to you\", image: myCustomDevSetup })\\n\\nexport default (props) => <ArticleLayout metadata={metadata} {...props} />\\n\\n\"You could be the greatest architect in the world, but that won\\'t matter much if it takes you forever to type everything into your computer.\"\\n\\n[\\n\\n**Hugo Posca\\n\\n**](https://www.linkedin.com/in/hugoposca/)\\n\\n---\\n\\n## Why read this article? When you\\'re finished reading this article, you\\'ll understand the *why* and *how* behind my custom development setup, which has subjectively made me much faster and happier in my day to day work.\\n\\nHere\\'s a screenshot of my setup, captured from a streaming session.\\n\\n<Image src={myCustomDevSetup} alt=\"My custom developer workflow\" />\\n\\nIf you\\'re interested in developer productivity and tooling and you want to watch me hack on open source using my complete setup, be sure to check out my [my YouTube channel](https://youtube.com/@zackproser).\\n\\nIn this blog post, I\\'m going to show you exactly what I type in my terminal, and exactly how I navigate my filesystem and work on projects, using high fidelity demos:\\n\\n<Image src={tmuxFlow} alt=\"tmux is your friend\" />\\n\\nPerhaps more importantly, this initial overview post will explain the *why* - why do I go to the trouble to learn, configure, debug and combine all these tools in exactly this way? Ultimately, my workflow reflects what I\\'ve learned so far in my career.\\n\\n## Why do I care about this so much?\\n\\nI believe that when it\\'s fun and efficient to do your work and interact with your tools and devices, you\\'re more productive and happier. Therefore, one of the reasons this topic energizes me is that it\\'s an investment into making something that I do intensively for many hours per week as pleasurable and efficient as it reasonably should be.\\n\\nBut there\\'s also another important reason I\\'ve been wanting to put out this blog post for a long time now. Many developers throughout my career have assisted me, and have taken time out of their day to stop what they were doing to show me a better way to do something, or a new tool or shortcut.\\n\\nMy current skill level is a product of my constant practice and the sum total of every new technique and pattern someone more experienced took the time to relay to me.\\n\\nTherefore, I am also publishing this post as a means of saying thanks and paying forward the same favor to anyone who could benefit from this information.\\n\\nIn this post, I share the most important things I\\'ve learned so far on my journey, which is by no means complete. I am no expert, but another student.\\n\\n## Learning #1 - Keep your hands on the keyboard\\n\\nThat\\'s what most of this really boils down to.\\n\\nIn general, don\\'t use the mouse. Browse the web using your keyboard. Yes, it will suck initially and be uncomfortable and cause you to be slower overall. This will not last long if you stick with it. I\\'m now much faster using Vimium to handle even semi-complex tasks like reviewing a large pull request on GitHub, because I can jump directly to the HTML nodes I want, rather than having to drag a mouse across the screen multiple times. There\\'s a demo of me navigating GitHub with my keyboard just a bit further on in this article.\\n\\n## Learning #2 - The fundamentals must be speedy\\n\\n\"You need to move a little faster than that son. Speed is Life.\" **Viper, Titanfall 2**\\n\\n<Image src={viper} alt=\"Speed is life\" />\\n\\nFor a more real world and less silly example, see also Boyd\\'s Law.\\n\\nThere are certain actions you\\'ll perform a great number of times in your career as a software developer. You\\'ll do them a number of times today, even! All of these things need to be extremely fast for you to execute. Fast like scratching an itch is - there\\'s the impulse to be somewhere, and your fingers find the place effortlessly. **No exceptions! **\\n\\n**Navigating to\\n\\n** code, locally or in the browser. This means finding the correct repository and jumping into it very quickly, with minimal keystrokes.\\n\\n**Understanding or mapping code\\n\\n**. This means being able to see a symbol outline (variables, functions, classes, consts, etc) of a given file and see all the files in the project arranged hierarchically\\n\\n**Quick pattern and string searching\\n\\n** which allows you to answer the many questions that naturally arise as you\\'re working with code\\n\\nThese tasks are each important enough in their own right; we\\'ll treat each separately.\\n\\n### Navigating to code, locally\\n\\nI work at a company with many (> 150) repositories. I manage this by cloning all the repositories to my development machine (using a script) and optionally running another script to step into each repository and perform a git fetch and reset.\\n\\nMaintaining all the repositories I\\'ll reasonably touch locally on my machine allows me to take full advantage of powerful command line tools like `fzf` and `rg` (ripgrep).\\n\\nI haven\\'t yet felt the need to, but I could further optimize this by creating a cron job to run the update script each morning before I start work, so that I\\'m always looking at the latest code.\\n\\nOnce I started managing my code locally, fzf particularly began to shine as a tool for jumping quickly to any directory on my system. As a fuzzy-finder, fzf can do much more than that, but if you use it only for quick jumps to different directories, you\\'ll still be deriving a great deal of value from it.\\n\\n## `fzf` in action\\n\\n<Image src={fzf} alt=\"fzf demo - jumping to any directory very quickly\" />\\n\\n## The default is navigation\\n\\nIf I run `vim` in the root of any directory, my neovim setup will automatically open the directory in neotree, which makes navigating and understanding the file system easy and fast.\\n\\n<Image src={neotreeDemo} alt=\"Neotree is baked into AstroNvim\" />\\n\\n## Navigating to code, in the browser\\n\\nFor general keyboard-based browsing, I use the Vimium plugin for Firefox. Here\\'s a demo of me navigating an actual pull request on GitHub and demonstrating how easy (and quick) it is to:\\n\\nComment on any line\\n\\nJump to any file changed in the pull request\\n\\nExpand and use even the special functions behind an ellipses menu\\n\\nStart editing a file within a pull request, if desired\\n\\n<iframe width=\"315\" height=\"315\" src=\"https://www.youtube.com/embed/gRa3vEOPK_o\" title=\"YouTube video player\" frameborder=\"0\" allow=\"accelerometer; autoplay; clipboard-write; encrypted-media; gyroscope; picture-in-picture; web-share\" allowfullscreen></iframe>\\n\\n### Understanding or mapping code quickly\\n\\nWhen I open a new project or file, I want to orient myself quickly and develop a general understanding of the project layout and the structure of the program. To accomplish this, I lean on AstroNvim\\'s configuration to pop up a symbol outline in my current file that I can use to navigate and understand the code:\\n\\n<Image src={symbolOutlineDemo} alt=\"Symbol outline demo\" />\\n\\n### Finding files, code or arbitrary strings on your local machine\\n\\nWhether you\\'re working on a new feature, trying to orient yourself to a new codebase or performing upgrades across several repositories, you\\'re naturally going to have a lot of questions about your source code come up:\\n\\nWhich versions of this software are currently deployed?\\n\\nHow many places does that string we need to replace occur?\\n\\nDid that same typo we\\'ve seen elsewhere occur in this code?\\n\\nAnd many, many more. You\\'d be surprised how many of these questions ripgrep can answer for you. I recommend learning as many of the flags for `rg` as you can. I picked up ripgrep a few years ago and it remains one of the things I run constantly throughout the day to get my work done more efficiently.\\n\\n<Image src={ripgrepDemo} alt=\"ripgrep is ideal for finding arbitrary strings across files\" />\\n\\n## Learning #3 - Reflow your workspace to fit your work I may execute many different tasks during the course of a day: write a new feature in one language, fix up some flaky or slow tests in another, write an RFC in markdown, create new configuration files, perform a deployment, etc.\\n\\nThis involves getting data from one place like a `terraform output` into a command line argument, and then copying and pasting the output of that command into the separate log file you\\'re keeping, which you then separately want to pipe into another operation in a different pane. I think of my tmux panes as unix pipes.\\n\\nThe main idea is that my workspace is a fluid thing that can shift and scale up or down in order to accomodate the task at hand. If I\\'m writing code that needs to know the docker image ID of a particular image I built recently, I can pop open a new tmux pane and run whatever Docker commands I need to get that information. Because each pane is a shell, I can script against and further process my output with any and every unix tool to get exactly what I want.\\n\\nLet\\'s make this more concrete with an example. In the following demo gif, I use neovim to edit code, which means my editor is just another tmux pane. In this case, I\\'m writing some code that needs a Docker image ID. I need only create a new split and do my Docker work there. When I have the Docker image ID I need, I can close the extra pane, recovering the full screen\\'s real estate for my focused coding task.\\n\\n<Image src={tmuxFlow} alt=\"tmux is a powerful terminal multiplexer\" />\\n\\nIn my day to day work, I might have between 3 and 8 different terminal panes open on a single screen, depending on the task. Panes show up to do some work and get some output that can be easily piped to any other pane. Panes whose work is finished can get closed down, recovering screen real-estate for other tasks. I constantly reflow my workspace to my work.\\n\\n## Desktops - with an s Awesome Window Manager allows me to organize my work across two external monitors into 9 Windows each. This is extremely handy and something I use everyday.\\n\\nHere\\'s a rough idea of how I divide up my Windows to provide you with some inspiration, but everyone is likely going to settle on an arrangement that makes them happy:\\n\\n1. Comms (Slack, email) 2. Notes / Second brain (Obsidian.md) 3. Spotify 4. Zoom call 5. Main tmux window for editing code, with all sessions stored as tmux sessions 6, 7, and 8 are my utility windows. I currently run my StreamDeck UI and logs across these 9. Browser windows for whatever I\\'m actively working on\\n\\nHaving these windows divided up in this way simplifies context-switching throughout the day for me. I always know exactly which window has which kind of application running in it, so it\\'s snappy and natural to switch back and forth between them as needed, even while pair-coding or on a Zoom call.\\n\\n# Next up, and a request\\n\\nThat\\'s it for this introductory post! In forthcoming posts in this series, I\\'ll go deep on:\\n\\nsetting up these tools\\n\\nhow to install and configure them\\n\\nmanaging your configuration with git for recovery and reuse across multiple machines\\n\\nshell optimizations that compound the speed boosts\\n\\nadvanced patterns, custom shell functions, additional use\\n\\ncases, demos and useful scripts\\n\\nAnd now, a humble request. If you\\'ve found this article at all helpful or interesting, please share it with someone you think could benefit from the information. And, if you have feedback, questions or other content you\\'d like to see in the future, please don\\'t hesitate to reach out and let me know. Thank you for reading!')"
            ]
          },
          "metadata": {},
          "execution_count": 10
        }
      ],
      "source": [
        "docs[0]"
      ]
    },
    {
      "cell_type": "code",
      "execution_count": 11,
      "metadata": {
        "id": "_bheqyjbd9Ce"
      },
      "outputs": [],
      "source": [
        "from google.colab import userdata\n",
        "\n",
        "os.environ['OPENAI_API_KEY'] = userdata.get('OPENAI_API_KEY')\n",
        "os.environ['PINECONE_API_KEY'] = userdata.get('PINECONE_API_KEY')"
      ]
    },
    {
      "cell_type": "code",
      "execution_count": 12,
      "metadata": {
        "id": "-3Ylo6SumI-P"
      },
      "outputs": [],
      "source": [
        "embeddings = OpenAIEmbeddings(\n",
        "    model=\"text-embedding-3-small\"\n",
        ")\n",
        "\n",
        "index_name = \"quickstart\"\n",
        "\n",
        "text_splitter = RecursiveCharacterTextSplitter()\n",
        "split_docs = text_splitter.split_documents(docs)"
      ]
    },
    {
      "cell_type": "code",
      "execution_count": 19,
      "metadata": {
        "colab": {
          "base_uri": "https://localhost:8080/"
        },
        "collapsed": true,
        "id": "hXMrW4XKmy1f",
        "outputId": "547efb8a-a58d-4ce5-c09b-68c59961a8e4"
      },
      "outputs": [
        {
          "output_type": "execute_result",
          "data": {
            "text/plain": [
              "Document(metadata={'source': 'portfolio/src/app/blog/terminal-velocity-overview/page.mdx', 'text': '## Learning #2 - The fundamentals must be speedy\\n\\n\"You need to move a little faster than that son. Speed is Life.\" **Viper, Titanfall 2**\\n\\n<Image src={viper} alt=\"Speed is life\" />\\n\\nFor a more real world and less silly example, see also Boyd\\'s Law.\\n\\nThere are certain actions you\\'ll perform a great number of times in your career as a software developer. You\\'ll do them a number of times today, even! All of these things need to be extremely fast for you to execute. Fast like scratching an itch is - there\\'s the impulse to be somewhere, and your fingers find the place effortlessly. **No exceptions! **\\n\\n**Navigating to\\n\\n** code, locally or in the browser. This means finding the correct repository and jumping into it very quickly, with minimal keystrokes.\\n\\n**Understanding or mapping code\\n\\n**. This means being able to see a symbol outline (variables, functions, classes, consts, etc) of a given file and see all the files in the project arranged hierarchically\\n\\n**Quick pattern and string searching\\n\\n** which allows you to answer the many questions that naturally arise as you\\'re working with code\\n\\nThese tasks are each important enough in their own right; we\\'ll treat each separately.\\n\\n### Navigating to code, locally\\n\\nI work at a company with many (> 150) repositories. I manage this by cloning all the repositories to my development machine (using a script) and optionally running another script to step into each repository and perform a git fetch and reset.\\n\\nMaintaining all the repositories I\\'ll reasonably touch locally on my machine allows me to take full advantage of powerful command line tools like `fzf` and `rg` (ripgrep).\\n\\nI haven\\'t yet felt the need to, but I could further optimize this by creating a cron job to run the update script each morning before I start work, so that I\\'m always looking at the latest code.\\n\\nOnce I started managing my code locally, fzf particularly began to shine as a tool for jumping quickly to any directory on my system. As a fuzzy-finder, fzf can do much more than that, but if you use it only for quick jumps to different directories, you\\'ll still be deriving a great deal of value from it.\\n\\n## `fzf` in action\\n\\n<Image src={fzf} alt=\"fzf demo - jumping to any directory very quickly\" />\\n\\n## The default is navigation\\n\\nIf I run `vim` in the root of any directory, my neovim setup will automatically open the directory in neotree, which makes navigating and understanding the file system easy and fast.\\n\\n<Image src={neotreeDemo} alt=\"Neotree is baked into AstroNvim\" />\\n\\n## Navigating to code, in the browser\\n\\nFor general keyboard-based browsing, I use the Vimium plugin for Firefox. Here\\'s a demo of me navigating an actual pull request on GitHub and demonstrating how easy (and quick) it is to:\\n\\nComment on any line\\n\\nJump to any file changed in the pull request\\n\\nExpand and use even the special functions behind an ellipses menu\\n\\nStart editing a file within a pull request, if desired\\n\\n<iframe width=\"315\" height=\"315\" src=\"https://www.youtube.com/embed/gRa3vEOPK_o\" title=\"YouTube video player\" frameborder=\"0\" allow=\"accelerometer; autoplay; clipboard-write; encrypted-media; gyroscope; picture-in-picture; web-share\" allowfullscreen></iframe>\\n\\n### Understanding or mapping code quickly\\n\\nWhen I open a new project or file, I want to orient myself quickly and develop a general understanding of the project layout and the structure of the program. To accomplish this, I lean on AstroNvim\\'s configuration to pop up a symbol outline in my current file that I can use to navigate and understand the code:\\n\\n<Image src={symbolOutlineDemo} alt=\"Symbol outline demo\" />\\n\\n### Finding files, code or arbitrary strings on your local machine\\n\\nWhether you\\'re working on a new feature, trying to orient yourself to a new codebase or performing upgrades across several repositories, you\\'re naturally going to have a lot of questions about your source code come up:\\n\\nWhich versions of this software are currently deployed?'}, page_content='## Learning #2 - The fundamentals must be speedy\\n\\n\"You need to move a little faster than that son. Speed is Life.\" **Viper, Titanfall 2**\\n\\n<Image src={viper} alt=\"Speed is life\" />\\n\\nFor a more real world and less silly example, see also Boyd\\'s Law.\\n\\nThere are certain actions you\\'ll perform a great number of times in your career as a software developer. You\\'ll do them a number of times today, even! All of these things need to be extremely fast for you to execute. Fast like scratching an itch is - there\\'s the impulse to be somewhere, and your fingers find the place effortlessly. **No exceptions! **\\n\\n**Navigating to\\n\\n** code, locally or in the browser. This means finding the correct repository and jumping into it very quickly, with minimal keystrokes.\\n\\n**Understanding or mapping code\\n\\n**. This means being able to see a symbol outline (variables, functions, classes, consts, etc) of a given file and see all the files in the project arranged hierarchically\\n\\n**Quick pattern and string searching\\n\\n** which allows you to answer the many questions that naturally arise as you\\'re working with code\\n\\nThese tasks are each important enough in their own right; we\\'ll treat each separately.\\n\\n### Navigating to code, locally\\n\\nI work at a company with many (> 150) repositories. I manage this by cloning all the repositories to my development machine (using a script) and optionally running another script to step into each repository and perform a git fetch and reset.\\n\\nMaintaining all the repositories I\\'ll reasonably touch locally on my machine allows me to take full advantage of powerful command line tools like `fzf` and `rg` (ripgrep).\\n\\nI haven\\'t yet felt the need to, but I could further optimize this by creating a cron job to run the update script each morning before I start work, so that I\\'m always looking at the latest code.\\n\\nOnce I started managing my code locally, fzf particularly began to shine as a tool for jumping quickly to any directory on my system. As a fuzzy-finder, fzf can do much more than that, but if you use it only for quick jumps to different directories, you\\'ll still be deriving a great deal of value from it.\\n\\n## `fzf` in action\\n\\n<Image src={fzf} alt=\"fzf demo - jumping to any directory very quickly\" />\\n\\n## The default is navigation\\n\\nIf I run `vim` in the root of any directory, my neovim setup will automatically open the directory in neotree, which makes navigating and understanding the file system easy and fast.\\n\\n<Image src={neotreeDemo} alt=\"Neotree is baked into AstroNvim\" />\\n\\n## Navigating to code, in the browser\\n\\nFor general keyboard-based browsing, I use the Vimium plugin for Firefox. Here\\'s a demo of me navigating an actual pull request on GitHub and demonstrating how easy (and quick) it is to:\\n\\nComment on any line\\n\\nJump to any file changed in the pull request\\n\\nExpand and use even the special functions behind an ellipses menu\\n\\nStart editing a file within a pull request, if desired\\n\\n<iframe width=\"315\" height=\"315\" src=\"https://www.youtube.com/embed/gRa3vEOPK_o\" title=\"YouTube video player\" frameborder=\"0\" allow=\"accelerometer; autoplay; clipboard-write; encrypted-media; gyroscope; picture-in-picture; web-share\" allowfullscreen></iframe>\\n\\n### Understanding or mapping code quickly\\n\\nWhen I open a new project or file, I want to orient myself quickly and develop a general understanding of the project layout and the structure of the program. To accomplish this, I lean on AstroNvim\\'s configuration to pop up a symbol outline in my current file that I can use to navigate and understand the code:\\n\\n<Image src={symbolOutlineDemo} alt=\"Symbol outline demo\" />\\n\\n### Finding files, code or arbitrary strings on your local machine\\n\\nWhether you\\'re working on a new feature, trying to orient yourself to a new codebase or performing upgrades across several repositories, you\\'re naturally going to have a lot of questions about your source code come up:\\n\\nWhich versions of this software are currently deployed?')"
            ]
          },
          "metadata": {},
          "execution_count": 19
        }
      ],
      "source": [
        "split_docs[1]"
      ]
    },
    {
      "cell_type": "code",
      "execution_count": 14,
      "metadata": {
        "id": "ZpeRDl-UnDK0"
      },
      "outputs": [],
      "source": [
        "vectorstore = PineconeVectorStore.from_documents(split_docs, embeddings, index_name=index_name)"
      ]
    },
    {
      "cell_type": "code",
      "execution_count": 20,
      "metadata": {
        "id": "m5QHWhNUnmb8"
      },
      "outputs": [],
      "source": [
        "query = \"What is the programming bug?\"\n",
        "\n",
        "similar_docs = vectorstore.similarity_search(query)"
      ]
    },
    {
      "cell_type": "code",
      "execution_count": 21,
      "metadata": {
        "colab": {
          "base_uri": "https://localhost:8080/"
        },
        "collapsed": true,
        "id": "mZBwz20anzyi",
        "outputId": "0f03cd51-08f5-45f5-c69c-97b5a83f90fe"
      },
      "outputs": [
        {
          "output_type": "execute_result",
          "data": {
            "text/plain": [
              "[Document(metadata={'source': 'portfolio/src/app/blog/first-see-if-youve-got-the-bug/page.mdx'}, page_content='import { ArticleLayout } from \\'@/components/ArticleLayout\\' import Newsletter from \\'@/components/NewsletterWrapper\\'\\n\\nimport sparkOfLearning from \\'@/images/spark\\n\\nof\\n\\nlearning.webp\\'\\n\\nimport foundTheSpark from \\'@/images/found\\n\\nthe\\n\\nspark.webp\\'\\n\\nimport programmingBug from \\'@/images/programming\\n\\nbug.webp\\'\\n\\nimport exploringProgramming from \\'@/images/exploring\\n\\nprogramming.webp\\'\\n\\nimport learningToCodeMap from \\'@/images/learning\\n\\nto\\n\\ncode\\n\\nmap.webp\\'\\n\\nimport workingHacker from \\'@/images/working\\n\\nhacker.webp\\'\\n\\nimport hookedOnHacking from \\'@/images/hooked\\n\\non\\n\\nhacking.webp\\'\\n\\nimport hackerEncouragement from \\'@/images/hacker\\n\\nencouraging.webp\\'\\n\\nimport programmingBugReleased from \\'@/images/programming\\n\\nbug\\n\\nreleased.webp\\'\\n\\nimport programmersInSnowglobe from \\'@/images/programmers\\n\\nin\\n\\nsnowglobe.webp\\'\\n\\nimport programmingIsMagic from \\'@/images/programming\\n\\nis\\n\\nmagic.webp\\'\\n\\nimport givingUpCoin from \\'@/images/giving\\n\\nup\\n\\ncoins.webp\\'\\n\\nimport descentCoverArt from \\'@/images/descent.webp\\'\\n\\nimport Image from \\'next/image\\'\\n\\nimport Link from \\'next/link\\'\\n\\nimport { createMetadata } from \\'@/utils/createMetadata\\'\\n\\nimport ConsultingCTA from \\'@/components/ConsultingCTA\\'\\n\\nexport const metadata = createMetadata({ author: \"Zachary Proser\", date: \"2023-07-17\", title: \"First, find out if you\\'ve got the programming bug\", description: \"I get this question a lot: how do I get into coding? This is my best advice. \", image: sparkOfLearning, })\\n\\nexport default (props) => <ArticleLayout metadata={metadata} {...props} />\\n\\n<Image src={foundTheSpark} />\\n\\n> I\\'m thinking about learning to code. Which laptop should I get? Should I do a bootcamp? Does my child need special classes or prep in order to tackle a computer science degree?\\n\\nA lot of different folks ask me if they should learn to code, if software development is a good career trajectory for them or their children, and what they need to study in school in order to be successful.\\n\\n## Here\\'s my advice in a nutshell\\n\\nBefore you should worry about any of that: your major, which school you\\'re trying to get your kid into, which laptop you should purchase, you need to figure out if you (or your kid) have the \"programming bug\".\\n\\nThis will require a bit of exploration and effort on your part, but the good news is there\\'s a ton of high quality and free resources online that will give you enough of a taste for coding and building to help you determine if this is something worth pursuing as a career or hobby. I\\'ll share some of my favorites in this post.\\n\\n<Image src={sparkOfLearning} />\\n\\n## What is the programming bug?\\n\\n\"The programming bug\" is the spark of innate curiosity that drives your learning forward. Innate meaning that it\\'s coming from you - other people don\\'t need to push you to do it.\\n\\n<Image src={programmingBug} />\\n\\nIn software development, coding, systems engineering, machine learning, data science; basically, in working with computers while also possibly working with people - there are periods of profound frustration and tedium, punctuated by anxiety and stress.\\n\\nI have personally reached a level of frustration that brought tears to my eyes countless times. If you pursue the path of a digital craftsperson, be assured that you will, too. Especially in the beginning. That\\'s okay.\\n\\nI also happen to think that being able to describe to machines of all shapes and sizes exactly what you want them to do in their own languages; to solve problems in collaboration with machines, and to be able to bring an idea from your imagination all the way to a publicly accessible piece of software that people from around the world use and find utility or joy in - borders on magic.\\n\\n<Image src={programmingIsMagic} alt=\"Programming is magic\" />\\n\\n<Newsletter />\\n\\n## The spark of curiosity allows you to continually re-ignite your own passion for the craft'),\n",
              " Document(metadata={'source': 'portfolio/src/app/blog/first-see-if-youve-got-the-bug/page.mdx'}, page_content='import { ArticleLayout } from \\'@/components/ArticleLayout\\' import Newsletter from \\'@/components/NewsletterWrapper\\'\\n\\nimport sparkOfLearning from \\'@/images/spark\\n\\nof\\n\\nlearning.webp\\'\\n\\nimport foundTheSpark from \\'@/images/found\\n\\nthe\\n\\nspark.webp\\'\\n\\nimport programmingBug from \\'@/images/programming\\n\\nbug.webp\\'\\n\\nimport exploringProgramming from \\'@/images/exploring\\n\\nprogramming.webp\\'\\n\\nimport learningToCodeMap from \\'@/images/learning\\n\\nto\\n\\ncode\\n\\nmap.webp\\'\\n\\nimport workingHacker from \\'@/images/working\\n\\nhacker.webp\\'\\n\\nimport hookedOnHacking from \\'@/images/hooked\\n\\non\\n\\nhacking.webp\\'\\n\\nimport hackerEncouragement from \\'@/images/hacker\\n\\nencouraging.webp\\'\\n\\nimport programmingBugReleased from \\'@/images/programming\\n\\nbug\\n\\nreleased.webp\\'\\n\\nimport programmersInSnowglobe from \\'@/images/programmers\\n\\nin\\n\\nsnowglobe.webp\\'\\n\\nimport programmingIsMagic from \\'@/images/programming\\n\\nis\\n\\nmagic.webp\\'\\n\\nimport givingUpCoin from \\'@/images/giving\\n\\nup\\n\\ncoins.webp\\'\\n\\nimport descentCoverArt from \\'@/images/descent.webp\\'\\n\\nimport Image from \\'next/image\\'\\n\\nimport Link from \\'next/link\\'\\n\\nimport { createMetadata } from \\'@/utils/createMetadata\\'\\n\\nimport ConsultingCTA from \\'@/components/ConsultingCTA\\'\\n\\nexport const metadata = createMetadata({ author: \"Zachary Proser\", date: \"2023-07-17\", title: \"First, find out if you\\'ve got the programming bug\", description: \"I get this question a lot: how do I get into coding? This is my best advice. \", image: sparkOfLearning, })\\n\\nexport default (props) => <ArticleLayout metadata={metadata} {...props} />\\n\\n<Image src={foundTheSpark} />\\n\\n> I\\'m thinking about learning to code. Which laptop should I get? Should I do a bootcamp? Does my child need special classes or prep in order to tackle a computer science degree?\\n\\nA lot of different folks ask me if they should learn to code, if software development is a good career trajectory for them or their children, and what they need to study in school in order to be successful.\\n\\n## Here\\'s my advice in a nutshell\\n\\nBefore you should worry about any of that: your major, which school you\\'re trying to get your kid into, which laptop you should purchase, you need to figure out if you (or your kid) have the \"programming bug\".\\n\\nThis will require a bit of exploration and effort on your part, but the good news is there\\'s a ton of high quality and free resources online that will give you enough of a taste for coding and building to help you determine if this is something worth pursuing as a career or hobby. I\\'ll share some of my favorites in this post.\\n\\n<Image src={sparkOfLearning} />\\n\\n## What is the programming bug?\\n\\n\"The programming bug\" is the spark of innate curiosity that drives your learning forward. Innate meaning that it\\'s coming from you - other people don\\'t need to push you to do it.\\n\\n<Image src={programmingBug} />\\n\\nIn software development, coding, systems engineering, machine learning, data science; basically, in working with computers while also possibly working with people - there are periods of profound frustration and tedium, punctuated by anxiety and stress.\\n\\nI have personally reached a level of frustration that brought tears to my eyes countless times. If you pursue the path of a digital craftsperson, be assured that you will, too. Especially in the beginning. That\\'s okay.\\n\\nI also happen to think that being able to describe to machines of all shapes and sizes exactly what you want them to do in their own languages; to solve problems in collaboration with machines, and to be able to bring an idea from your imagination all the way to a publicly accessible piece of software that people from around the world use and find utility or joy in - borders on magic.\\n\\n<Image src={programmingIsMagic} alt=\"Programming is magic\" />\\n\\n<Newsletter />\\n\\n## The spark of curiosity allows you to continually re-ignite your own passion for the craft'),\n",
              " Document(metadata={'source': 'portfolio/src/app/blog/first-see-if-youve-got-the-bug/page.mdx'}, page_content='import { ArticleLayout } from \\'@/components/ArticleLayout\\' import Newsletter from \\'@/components/NewsletterWrapper\\'\\n\\nimport sparkOfLearning from \\'@/images/spark\\n\\nof\\n\\nlearning.webp\\'\\n\\nimport foundTheSpark from \\'@/images/found\\n\\nthe\\n\\nspark.webp\\'\\n\\nimport programmingBug from \\'@/images/programming\\n\\nbug.webp\\'\\n\\nimport exploringProgramming from \\'@/images/exploring\\n\\nprogramming.webp\\'\\n\\nimport learningToCodeMap from \\'@/images/learning\\n\\nto\\n\\ncode\\n\\nmap.webp\\'\\n\\nimport workingHacker from \\'@/images/working\\n\\nhacker.webp\\'\\n\\nimport hookedOnHacking from \\'@/images/hooked\\n\\non\\n\\nhacking.webp\\'\\n\\nimport hackerEncouragement from \\'@/images/hacker\\n\\nencouraging.webp\\'\\n\\nimport programmingBugReleased from \\'@/images/programming\\n\\nbug\\n\\nreleased.webp\\'\\n\\nimport programmersInSnowglobe from \\'@/images/programmers\\n\\nin\\n\\nsnowglobe.webp\\'\\n\\nimport programmingIsMagic from \\'@/images/programming\\n\\nis\\n\\nmagic.webp\\'\\n\\nimport givingUpCoin from \\'@/images/giving\\n\\nup\\n\\ncoins.webp\\'\\n\\nimport descentCoverArt from \\'@/images/descent.webp\\'\\n\\nimport Image from \\'next/image\\'\\n\\nimport Link from \\'next/link\\'\\n\\nimport { createMetadata } from \\'@/utils/createMetadata\\'\\n\\nimport ConsultingCTA from \\'@/components/ConsultingCTA\\'\\n\\nexport const metadata = createMetadata({ author: \"Zachary Proser\", date: \"2023-07-17\", title: \"First, find out if you\\'ve got the programming bug\", description: \"I get this question a lot: how do I get into coding? This is my best advice. \", image: sparkOfLearning, })\\n\\nexport default (props) => <ArticleLayout metadata={metadata} {...props} />\\n\\n<Image src={foundTheSpark} />\\n\\n> I\\'m thinking about learning to code. Which laptop should I get? Should I do a bootcamp? Does my child need special classes or prep in order to tackle a computer science degree?\\n\\nA lot of different folks ask me if they should learn to code, if software development is a good career trajectory for them or their children, and what they need to study in school in order to be successful.\\n\\n## Here\\'s my advice in a nutshell\\n\\nBefore you should worry about any of that: your major, which school you\\'re trying to get your kid into, which laptop you should purchase, you need to figure out if you (or your kid) have the \"programming bug\".\\n\\nThis will require a bit of exploration and effort on your part, but the good news is there\\'s a ton of high quality and free resources online that will give you enough of a taste for coding and building to help you determine if this is something worth pursuing as a career or hobby. I\\'ll share some of my favorites in this post.\\n\\n<Image src={sparkOfLearning} />\\n\\n## What is the programming bug?\\n\\n\"The programming bug\" is the spark of innate curiosity that drives your learning forward. Innate meaning that it\\'s coming from you - other people don\\'t need to push you to do it.\\n\\n<Image src={programmingBug} />\\n\\nIn software development, coding, systems engineering, machine learning, data science; basically, in working with computers while also possibly working with people - there are periods of profound frustration and tedium, punctuated by anxiety and stress.\\n\\nI have personally reached a level of frustration that brought tears to my eyes countless times. If you pursue the path of a digital craftsperson, be assured that you will, too. Especially in the beginning. That\\'s okay.\\n\\nI also happen to think that being able to describe to machines of all shapes and sizes exactly what you want them to do in their own languages; to solve problems in collaboration with machines, and to be able to bring an idea from your imagination all the way to a publicly accessible piece of software that people from around the world use and find utility or joy in - borders on magic.\\n\\n<Image src={programmingIsMagic} alt=\"Programming is magic\" />\\n\\n<Newsletter />\\n\\n## The spark of curiosity allows you to continually re-ignite your own passion for the craft'),\n",
              " Document(metadata={'source': 'portfolio/src/app/blog/first-see-if-youve-got-the-bug/page.mdx'}, page_content='import { ArticleLayout } from \\'@/components/ArticleLayout\\' import Newsletter from \\'@/components/NewsletterWrapper\\'\\n\\nimport sparkOfLearning from \\'@/images/spark\\n\\nof\\n\\nlearning.webp\\'\\n\\nimport foundTheSpark from \\'@/images/found\\n\\nthe\\n\\nspark.webp\\'\\n\\nimport programmingBug from \\'@/images/programming\\n\\nbug.webp\\'\\n\\nimport exploringProgramming from \\'@/images/exploring\\n\\nprogramming.webp\\'\\n\\nimport learningToCodeMap from \\'@/images/learning\\n\\nto\\n\\ncode\\n\\nmap.webp\\'\\n\\nimport workingHacker from \\'@/images/working\\n\\nhacker.webp\\'\\n\\nimport hookedOnHacking from \\'@/images/hooked\\n\\non\\n\\nhacking.webp\\'\\n\\nimport hackerEncouragement from \\'@/images/hacker\\n\\nencouraging.webp\\'\\n\\nimport programmingBugReleased from \\'@/images/programming\\n\\nbug\\n\\nreleased.webp\\'\\n\\nimport programmersInSnowglobe from \\'@/images/programmers\\n\\nin\\n\\nsnowglobe.webp\\'\\n\\nimport programmingIsMagic from \\'@/images/programming\\n\\nis\\n\\nmagic.webp\\'\\n\\nimport givingUpCoin from \\'@/images/giving\\n\\nup\\n\\ncoins.webp\\'\\n\\nimport descentCoverArt from \\'@/images/descent.webp\\'\\n\\nimport Image from \\'next/image\\'\\n\\nimport Link from \\'next/link\\'\\n\\nimport { createMetadata } from \\'@/utils/createMetadata\\'\\n\\nimport ConsultingCTA from \\'@/components/ConsultingCTA\\'\\n\\nexport const metadata = createMetadata({ author: \"Zachary Proser\", date: \"2023-07-17\", title: \"First, find out if you\\'ve got the programming bug\", description: \"I get this question a lot: how do I get into coding? This is my best advice. \", image: sparkOfLearning, })\\n\\nexport default (props) => <ArticleLayout metadata={metadata} {...props} />\\n\\n<Image src={foundTheSpark} />\\n\\n> I\\'m thinking about learning to code. Which laptop should I get? Should I do a bootcamp? Does my child need special classes or prep in order to tackle a computer science degree?\\n\\nA lot of different folks ask me if they should learn to code, if software development is a good career trajectory for them or their children, and what they need to study in school in order to be successful.\\n\\n## Here\\'s my advice in a nutshell\\n\\nBefore you should worry about any of that: your major, which school you\\'re trying to get your kid into, which laptop you should purchase, you need to figure out if you (or your kid) have the \"programming bug\".\\n\\nThis will require a bit of exploration and effort on your part, but the good news is there\\'s a ton of high quality and free resources online that will give you enough of a taste for coding and building to help you determine if this is something worth pursuing as a career or hobby. I\\'ll share some of my favorites in this post.\\n\\n<Image src={sparkOfLearning} />\\n\\n## What is the programming bug?\\n\\n\"The programming bug\" is the spark of innate curiosity that drives your learning forward. Innate meaning that it\\'s coming from you - other people don\\'t need to push you to do it.\\n\\n<Image src={programmingBug} />\\n\\nIn software development, coding, systems engineering, machine learning, data science; basically, in working with computers while also possibly working with people - there are periods of profound frustration and tedium, punctuated by anxiety and stress.\\n\\nI have personally reached a level of frustration that brought tears to my eyes countless times. If you pursue the path of a digital craftsperson, be assured that you will, too. Especially in the beginning. That\\'s okay.\\n\\nI also happen to think that being able to describe to machines of all shapes and sizes exactly what you want them to do in their own languages; to solve problems in collaboration with machines, and to be able to bring an idea from your imagination all the way to a publicly accessible piece of software that people from around the world use and find utility or joy in - borders on magic.\\n\\n<Image src={programmingIsMagic} alt=\"Programming is magic\" />\\n\\n<Newsletter />\\n\\n## The spark of curiosity allows you to continually re-ignite your own passion for the craft')]"
            ]
          },
          "metadata": {},
          "execution_count": 21
        }
      ],
      "source": [
        "similar_docs"
      ]
    },
    {
      "cell_type": "code",
      "execution_count": 17,
      "metadata": {
        "colab": {
          "base_uri": "https://localhost:8080/"
        },
        "id": "asQcfJB0oQtG",
        "outputId": "77e3b0c2-ed1f-48d6-99a4-0fdb35e26356"
      },
      "outputs": [
        {
          "output_type": "execute_result",
          "data": {
            "text/plain": [
              "{'query': 'What is the programming bug?',\n",
              " 'result': 'The programming bug is described as the spark of innate curiosity that drives your learning forward. It means having a natural interest and motivation to learn and explore coding without needing external pressure or encouragement. This curiosity helps you persist through the periods of frustration, tedium, anxiety, and stress that often accompany learning and working in software development, coding, systems engineering, machine learning, and data science.'}"
            ]
          },
          "metadata": {},
          "execution_count": 17
        }
      ],
      "source": [
        "from langchain_openai import ChatOpenAI\n",
        "from langchain.chains import RetrievalQA\n",
        "\n",
        "llm = ChatOpenAI(\n",
        "    model=\"gpt-4o\",\n",
        "    temperature=0\n",
        ")\n",
        "\n",
        "qa = RetrievalQA.from_chain_type(\n",
        "    llm=llm,\n",
        "    chain_type=\"stuff\",\n",
        "    retriever=vectorstore.as_retriever()\n",
        ")\n",
        "\n",
        "qa.invoke(query)"
      ]
    }
  ],
  "metadata": {
    "colab": {
      "provenance": []
    },
    "kernelspec": {
      "display_name": "Python 3",
      "name": "python3"
    },
    "language_info": {
      "name": "python"
    }
  },
  "nbformat": 4,
  "nbformat_minor": 0
}